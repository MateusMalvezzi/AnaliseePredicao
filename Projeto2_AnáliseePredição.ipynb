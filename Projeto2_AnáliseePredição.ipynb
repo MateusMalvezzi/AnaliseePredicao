{
  "nbformat": 4,
  "nbformat_minor": 0,
  "metadata": {
    "colab": {
      "provenance": []
    },
    "kernelspec": {
      "name": "python3",
      "display_name": "Python 3"
    },
    "language_info": {
      "name": "python"
    }
  },
  "cells": [
    {
      "cell_type": "markdown",
      "source": [
        "Obter base de dados"
      ],
      "metadata": {
        "id": "a2pC_5WvbC90"
      }
    },
    {
      "cell_type": "code",
      "source": [
        "import pandas as pd"
      ],
      "metadata": {
        "id": "Tq4I0-YVWHwq"
      },
      "execution_count": 3,
      "outputs": []
    },
    {
      "cell_type": "code",
      "source": [
        "# ID do arquivo no Google Drive\n",
        "file_id = \"1DcS1VgGGVa5O6JHuD7ZeKmxgI1ejCw4m\""
      ],
      "metadata": {
        "id": "bqWhXKgCW6kV"
      },
      "execution_count": 6,
      "outputs": []
    },
    {
      "cell_type": "code",
      "source": [
        "# URL para download do arquivo usando o ID\n",
        "url = f\"https://drive.google.com/uc?id={file_id}\""
      ],
      "metadata": {
        "id": "VM4-mn1SWH1s"
      },
      "execution_count": 7,
      "outputs": []
    },
    {
      "cell_type": "code",
      "source": [
        "# Ler o arquivo CSV diretamente do Google Drive\n",
        "dados = pd.read_csv(url)"
      ],
      "metadata": {
        "id": "zmX8p9M-WH4t"
      },
      "execution_count": 8,
      "outputs": []
    },
    {
      "cell_type": "markdown",
      "source": [
        "Importação e Limpeza"
      ],
      "metadata": {
        "id": "4YBPF-JgbPEv"
      }
    },
    {
      "cell_type": "code",
      "source": [
        "# Visualizar as primeiras linhas do DataFrame para entender a estrutura dos dados\n",
        "print(\"Antes da limpeza:\")\n",
        "print(dados.head())"
      ],
      "metadata": {
        "colab": {
          "base_uri": "https://localhost:8080/"
        },
        "id": "-4cXu3JqXAhj",
        "outputId": "7b3fb2fa-c26e-46c6-f25a-2b7221aa2d3d"
      },
      "execution_count": 10,
      "outputs": [
        {
          "output_type": "stream",
          "name": "stdout",
          "text": [
            "Antes da limpeza:\n",
            "              address      district  area  bedrooms  garage  \\\n",
            "0          Rua Herval    Belenzinho    21         1       0   \n",
            "1  Avenida São Miguel  Vila Marieta    15         1       1   \n",
            "2    Rua Oscar Freire     Pinheiros    18         1       0   \n",
            "3    Rua Júlio Sayago       Vila Ré    56         2       2   \n",
            "4  Rua Barata Ribeiro    Bela Vista    19         1       0   \n",
            "\n",
            "                 type  rent  total  \n",
            "0     Studio e kitnet  2400   2939  \n",
            "1     Studio e kitnet  1030   1345  \n",
            "2         Apartamento  4000   4661  \n",
            "3  Casa em condomínio  1750   1954  \n",
            "4     Studio e kitnet  4000   4654  \n"
          ]
        }
      ]
    },
    {
      "cell_type": "code",
      "source": [
        "# Verificar se há valores ausentes\n",
        "print(\"\\nValores ausentes antes da limpeza:\")\n",
        "print(dados.isnull().sum())"
      ],
      "metadata": {
        "colab": {
          "base_uri": "https://localhost:8080/"
        },
        "id": "pll3xz0ZXSmQ",
        "outputId": "8f76659e-1264-4015-a943-98dc2393a2d3"
      },
      "execution_count": 11,
      "outputs": [
        {
          "output_type": "stream",
          "name": "stdout",
          "text": [
            "\n",
            "Valores ausentes antes da limpeza:\n",
            "address     0\n",
            "district    0\n",
            "area        0\n",
            "bedrooms    0\n",
            "garage      0\n",
            "type        0\n",
            "rent        0\n",
            "total       0\n",
            "dtype: int64\n"
          ]
        }
      ]
    },
    {
      "cell_type": "code",
      "source": [
        "# Preencher valores ausentes nas colunas não numéricas com uma string vazia\n",
        "dados = dados.fillna('')"
      ],
      "metadata": {
        "id": "RO92gYn8XS4W"
      },
      "execution_count": 19,
      "outputs": []
    },
    {
      "cell_type": "code",
      "source": [
        "# Dicionário com valores específicos para preencher em cada coluna não numérica\n",
        "valores_preenchimento = {'endereco': 'endereco_desconhecido', 'bairro': 'bairro_desconhecido', 'tipo': 'tipo_desconhecido'}"
      ],
      "metadata": {
        "id": "CHxC6ZcXYfGX"
      },
      "execution_count": 20,
      "outputs": []
    },
    {
      "cell_type": "code",
      "source": [
        "# Preencher valores específicos nas colunas não numéricas\n",
        "dados = dados.fillna(valores_preenchimento)"
      ],
      "metadata": {
        "id": "WfvTTwQuYfJ1"
      },
      "execution_count": 21,
      "outputs": []
    },
    {
      "cell_type": "code",
      "source": [
        "# Visualizar as primeiras linhas do DataFrame após limpeza\n",
        "print(\"\\nDepois da limpeza:\")\n",
        "print(dados.head())"
      ],
      "metadata": {
        "colab": {
          "base_uri": "https://localhost:8080/"
        },
        "id": "4vZHqewJYfNK",
        "outputId": "155df3d9-1e8f-4f80-d7fd-f45c16b1bed3"
      },
      "execution_count": 22,
      "outputs": [
        {
          "output_type": "stream",
          "name": "stdout",
          "text": [
            "\n",
            "Depois da limpeza:\n",
            "              address      district  area  bedrooms  garage  \\\n",
            "0          Rua Herval    Belenzinho    21         1       0   \n",
            "1  Avenida São Miguel  Vila Marieta    15         1       1   \n",
            "2    Rua Oscar Freire     Pinheiros    18         1       0   \n",
            "3    Rua Júlio Sayago       Vila Ré    56         2       2   \n",
            "4  Rua Barata Ribeiro    Bela Vista    19         1       0   \n",
            "\n",
            "                 type  rent  total  \n",
            "0     Studio e kitnet  2400   2939  \n",
            "1     Studio e kitnet  1030   1345  \n",
            "2         Apartamento  4000   4661  \n",
            "3  Casa em condomínio  1750   1954  \n",
            "4     Studio e kitnet  4000   4654  \n"
          ]
        }
      ]
    },
    {
      "cell_type": "markdown",
      "source": [
        "Análise Descritiva"
      ],
      "metadata": {
        "id": "6KuyIefabTaG"
      }
    },
    {
      "cell_type": "code",
      "source": [],
      "metadata": {
        "id": "vtEhFHm4Yfae"
      },
      "execution_count": null,
      "outputs": []
    },
    {
      "cell_type": "code",
      "source": [],
      "metadata": {
        "id": "obAYtGuMdSVr"
      },
      "execution_count": null,
      "outputs": []
    },
    {
      "cell_type": "code",
      "source": [],
      "metadata": {
        "id": "sw7fVUyBdSZG"
      },
      "execution_count": null,
      "outputs": []
    },
    {
      "cell_type": "code",
      "source": [],
      "metadata": {
        "id": "mDkNKKXYdSvs"
      },
      "execution_count": null,
      "outputs": []
    },
    {
      "cell_type": "markdown",
      "source": [
        "Modelagem de Regressão Linear"
      ],
      "metadata": {
        "id": "NozNrjG7bWGy"
      }
    },
    {
      "cell_type": "code",
      "source": [],
      "metadata": {
        "id": "AnVUCgXUbWnA"
      },
      "execution_count": null,
      "outputs": []
    },
    {
      "cell_type": "code",
      "source": [],
      "metadata": {
        "id": "uO4Co-wCbW8V"
      },
      "execution_count": null,
      "outputs": []
    },
    {
      "cell_type": "code",
      "source": [],
      "metadata": {
        "id": "Cpr0dw3TbXLP"
      },
      "execution_count": null,
      "outputs": []
    },
    {
      "cell_type": "markdown",
      "source": [
        "Visualização de Dados"
      ],
      "metadata": {
        "id": "e-k6CANSbXXG"
      }
    }
  ]
}